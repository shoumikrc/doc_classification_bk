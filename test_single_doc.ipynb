{
 "cells": [
  {
   "cell_type": "code",
   "execution_count": 1,
   "metadata": {},
   "outputs": [
    {
     "name": "stdout",
     "output_type": "stream",
     "text": [
      "Document category predicted as Bill with confidence 60.638820353185864\n"
     ]
    }
   ],
   "source": [
    "'''\n",
    " File name: test_single_doc.py\n",
    " Author: Shoumik Roychoudhury\n",
    " Date created: 7/16/2020\n",
    "\n",
    "'''\n",
    "import pickle as pk\n",
    "from joblib import load\n",
    "\n",
    "#model = load('filename.joblib') \n",
    "\n",
    "model = pk.load(open('pretrained.pkl','rb'))\n",
    "vectorizer = pk.load(open(\"vectorizer.pkl\", 'rb'))\n",
    "\n",
    "labels = [x.title() for x in\n",
    "                       ['APPLICATION',\n",
    "                        'BILL',\n",
    "                        'BILL BINDER',\n",
    "                        'BINDER',\n",
    "                        'CANCELLATION NOTICE',\n",
    "                        'CHANGE ENDORSEMENT',\n",
    "                        'DECLARATION',\n",
    "                        'DELETION OF INTEREST',\n",
    "                        'EXPIRATION NOTICE',\n",
    "                        'INTENT TO CANCEL NOTICE',\n",
    "                        'NON-RENEWAL NOTICE',\n",
    "                        'POLICY CHANGE',\n",
    "                        'REINSTATEMENT NOTICE',\n",
    "                        'RETURNED CHECK']\n",
    "                       ]\n",
    "\n",
    "doc_to_test = 'cdee33987473 25c57acdf805 586242498a88 f7ae6f8257da 98d0d51b397c dea246a2a089 3bb6ed305ace 2dcc7294c5eb 5db3fa1df531 eeb86a6a04e4 46e069a50701 10e45001c2f2 eca16ee06b98 6a01047db3ab cbfb3eb99bea 2b938ff7738e 9a00a4a4b020 0f6cb07676b9 d2fba859c54b b6644d301159 9a8982068d54 54edaa3eac8d 395a5e8185f8 1015893e384a 9201295d9a84 aefa523cd4b9 246a95db3931 42b3a7dea3f2 10e45001c2f2 ba8f19d976a8 530fd2faa74a 5fa62998872f 42e393bc7d8e eeb86a6a04e4 f4424062c08e 5a9acea8ea36 8e7dd3141e2e d1c3631d621b 5698b3115633 42557ab73317 448cca02dae6 e943e5e5b779 8d21095e8690 1ab34730c1e0 54709b24b45f eeb86a6a04e4 98d0d51b397c 918d14133622 3f154cb71bdf 847c3d168310 9e3426e7c1cb 0f6cb07676b9 b6644d301159 54edaa3eac8d 1015893e384a 586242498a88 f2b0e028fe2c 422068f04236 8e7dd3141e2e 530fd2faa74a b136f6349cf3 1ed079de7c6c 6e86c10fc88e 3012dd989e4f 24d1ab9d7766 de9738ee8b24 5be138559904 25c57acdf805 fb2cd24a447a aba2239ec163 e4a63237312c 52102c70348d c337a85b8ef9 f36e139d9400 580a08f5c8b9 ca383658800f 641356219cbc 422068f04236 6099f4533cc2 471119cf14ce 3eee1ce2a7bf 6af770640118 c337a85b8ef9 6df520735456 e4a63237312c 52102c70348d 6ab3b7c68009 c337a85b8ef9 641356219cbc f36e139d9400 e4a63237312c 52102c70348d 580a08f5c8b9 422068f04236 e4a63237312c 52102c70348d ca383658800f 641356219cbc 446c804d79cc ffe8decfd82e 641356219cbc 641356219cbc 422068f04236 422068f04236 6099f4533cc2 f7ae6f8257da 6099f4533cc2 eeb86a6a04e4 dec250bd255f 0302af775b89 2173befb1f1b ccfcf53939d5 b73e657498f2 d5f4611022c1 f62c5f87f0af fdb96e216207 54709b24b45f 25c57acdf805 373607889b46 c337a85b8ef9 b19b0b4bbe49 8f7a92cd0ae7 a20e78c41cf9 580a08f5c8b9 9a49132a5847 1015893e384a a5f8a7c9a886 586242498a88 264b544cefee 5dea521c4e2a 6ce6cc5a3203 31fdb28ad1d7 6d1fb90988cf cc9e05bc2a86 cde4f1b2a877 15a2389a650e d9142bb5fbe2 1068682ce752 9bc65adc033c 6bf9c0cb01b4 0562c756a2f2 3c2378cbd628 83f8b75d8fe3 fe7ea318c1ac 964d8858954c 46c88d9303da 667804d39f8b 1e1cf4f1b953 8de819b41a92 430ac7448a1d 586242498a88 586242498a88 46e069a50701 eca16ee06b98 c337a85b8ef9 25c57acdf805 f36e139d9400 87b8193a0183 fb2cd24a447a 580a08f5c8b9 3bb6ed305ace 2dcc7294c5eb d2fed0e65ee8 2173befb1f1b 5db3fa1df531 cbd6e2e7a804 6ca2dd348663 7d9e333a86da f62c5f87f0af cdee33987473 25c57acdf805 f7ae6f8257da d2fba859c54b 76a51f2eec08 9a8982068d54 ff714b9fa7fd 9cdf4a63deb0 395a5e8185f8 9201295d9a84 f4424062c08e 6172f16911ce df330922aae2 5a9acea8ea36 fea862065b74 7d9e333a86da cbfb3eb99bea 641356219cbc e4a63237312c 52102c70348d f62c5f87f0af 422068f04236 6099f4533cc2 422068f04236 2b938ff7738e 641356219cbc eeb86a6a04e4 b1e53262ec60 0f150526b215 294ef1562672 24f00d5fadd3 4bcd7bd4b757 54edaa3eac8d 93790ade6682 61b7e0f00ffe b7a0f56f6ce8 446c804d79cc 4357c81e10c1 a31962fbd5f3 31fdb28ad1d7 ffe8decfd82e 1015893e384a fb2cd24a447a 641356219cbc dea246a2a089 889c82556e90 422068f04236 75440bb763a2 d2fba859c54b 6099f4533cc2 036087ac04f9 dc63bc654639 2cbc2b5e61bb 54709b24b45f b1abddb99d7a 4c28a4682bf5 fe7ea318c1ac b6644d301159 530fd2faa74a 2ef7c27a5df4 ea51fa83c91c cbfb3eb99bea 2173befb1f1b b51e11421a0f f62c5f87f0af a2465cc7051a c9a53ea6e219 1ab34730c1e0 9a87e8f4bd5c 66519528d764 2f9d0e29e96a 252df78553ff 9fd4f198c19a 4eb799ec0fb4 54709b24b45f f816f047c0db 10bc6d04c2ad e60b77c37f17 eeb86a6a04e4 2685f0879380 eb51798a89e1 133d46f7ed38 b136f6349cf3 421e52f8278f d38820625542 8e7dd3141e2e d8afd84c6fa9 918d14133622 050b46aa8873 580a08f5c8b9 fbb341a91a12 1bbe797157cb 20d53168dbb6 b73e657498f2 e943fd8ad877 6bfb5db98ef3 2390376b5af4 1c303d15eb65 f62c5f87f0af ed1e3242ee34 3c680a311a05 1bbe797157cb 6bff0c8c1185 036087ac04f9 b136f6349cf3 7d41ca882f26 ab0ea8f20370 4a1fc4b235f6 e98d377b2b9d cc65f20e23da ab04416c57df 6ce6cc5a3203 798fe9915030 f2db1ce59725 2fd423ce5514 8e93a2273a93 1015893e384a 797c9990becb 6565086a90b1 586242498a88 abb8303deaf3 ecee69844b4e cc429363fb23 6365c4563bd1 43565b1afa44 5850dd7f87db ff714b9fa7fd 79aa7fd11cec 75662b23ecc7 7d9e333a86da f36e139d9400 f62c5f87f0af 5948001254b3 26f768da5068 6af770640118 688506733f41 10e45001c2f2 41a0ee0cf31a c87d29676bd1 4faebb8051b2 cb5d824045a6 22d6fd31d92b e3d61318ef03 036087ac04f9 2bcce4e05d9d b136f6349cf3 6224822e75cf cc429363fb23 abe7d2dd7c9b 43565b1afa44 9067496902b8 f0bce85c6eda f8931fcd9bd6 4f838b97d76c f0bce85c6eda 6b304aabdcee 0b5273ff6b8d 20d53168dbb6 2db9cd0d1e86 79aa7fd11cec d868896426ad'\n",
    "\n",
    "\n",
    "pred = model.predict(vectorizer.transform([doc_to_test]))\n",
    "\n",
    "conf = model.predict_proba(vectorizer.transform([doc_to_test])).max()*100\n",
    "print('Document category predicted as', labels[pred[0]], 'with confidence', conf)\n"
   ]
  }
 ],
 "metadata": {
  "kernelspec": {
   "display_name": "Python 3",
   "language": "python",
   "name": "python3"
  },
  "language_info": {
   "codemirror_mode": {
    "name": "ipython",
    "version": 3
   },
   "file_extension": ".py",
   "mimetype": "text/x-python",
   "name": "python",
   "nbconvert_exporter": "python",
   "pygments_lexer": "ipython3",
   "version": "3.7.1"
  }
 },
 "nbformat": 4,
 "nbformat_minor": 2
}
